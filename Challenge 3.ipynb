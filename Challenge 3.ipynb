{
 "cells": [
  {
   "cell_type": "code",
   "execution_count": 1,
   "metadata": {},
   "outputs": [
    {
     "name": "stdout",
     "output_type": "stream",
     "text": [
      "ATGCATGC\n",
      "writing to new file 'DNAseq'...\n",
      "done.\n"
     ]
    }
   ],
   "source": [
    "f = open('/home/ayusmand/Desktop/seq.txt', 'r')#convert it to uppercase\n",
    "uppers = f.read()\n",
    "f.close()\n",
    "f = open('/home/ayusmand/Desktop/seq.txt', 'w')\n",
    "f.write(uppers.upper())\n",
    "f.close()\n",
    "f = open('/home/ayusmand/Desktop/seq.txt', 'r')\n",
    "u = f.read()\n",
    "t = \"\"\n",
    "f.close()\n",
    "\n",
    "for i in u:\n",
    "\tif (i == 'U'):\n",
    "\t\tt += 'T'\n",
    "\telse:\n",
    "\t\tt += i\n",
    "\n",
    "print (t)\n",
    "print (\"writing to new file 'DNAseq'...\")\n",
    "DNAseq = open('/home/ayusmand/Desktop/DNAseq.txt', 'w')\n",
    "DNAseq.write(u)\n",
    "print (\"done.\")"
   ]
  },
  {
   "cell_type": "code",
   "execution_count": null,
   "metadata": {},
   "outputs": [],
   "source": []
  }
 ],
 "metadata": {
  "kernelspec": {
   "display_name": "Python 3",
   "language": "python",
   "name": "python3"
  },
  "language_info": {
   "codemirror_mode": {
    "name": "ipython",
    "version": 3
   },
   "file_extension": ".py",
   "mimetype": "text/x-python",
   "name": "python",
   "nbconvert_exporter": "python",
   "pygments_lexer": "ipython3",
   "version": "3.6.9"
  }
 },
 "nbformat": 4,
 "nbformat_minor": 4
}
